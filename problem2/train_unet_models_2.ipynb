{
 "cells": [
  {
   "cell_type": "code",
   "execution_count": 1,
   "metadata": {},
   "outputs": [
    {
     "name": "stdout",
     "output_type": "stream",
     "text": [
      "Collecting git+https://github.com/tensorflow/examples.git\n",
      "  Cloning https://github.com/tensorflow/examples.git to /tmp/pip-req-build-agrxymxp\n",
      "  Running command git clone -q https://github.com/tensorflow/examples.git /tmp/pip-req-build-agrxymxp\n",
      "Requirement already satisfied: absl-py in /home/sudh4444/projects/onward_assignment/venv/lib/python3.8/site-packages (from tensorflow-examples===40aab88c8cfa5d2a945c781edf34528e8545037f-) (1.0.0)\n",
      "Requirement already satisfied: six in /home/sudh4444/projects/onward_assignment/venv/lib/python3.8/site-packages (from tensorflow-examples===40aab88c8cfa5d2a945c781edf34528e8545037f-) (1.16.0)\n",
      "Building wheels for collected packages: tensorflow-examples\n",
      "  Building wheel for tensorflow-examples (setup.py) ... \u001b[?25ldone\n",
      "\u001b[?25h  Created wheel for tensorflow-examples: filename=tensorflow_examples-40aab88c8cfa5d2a945c781edf34528e8545037f_-py3-none-any.whl size=299282 sha256=b3db251304d48d769b85b5ed624d4a60e8e439f9e52f51fe7f335ab6d31e55b8\n",
      "  Stored in directory: /tmp/pip-ephem-wheel-cache-_ohinayp/wheels/4e/f5/c2/bfe75b834c9028b2529023bf74541c46ead531b513a8010d21\n",
      "Successfully built tensorflow-examples\n",
      "Installing collected packages: tensorflow-examples\n",
      "Successfully installed tensorflow-examples-40aab88c8cfa5d2a945c781edf34528e8545037f-\n"
     ]
    }
   ],
   "source": [
    "#!pip install git+https://github.com/tensorflow/examples.git"
   ]
  },
  {
   "cell_type": "code",
   "execution_count": 3,
   "metadata": {},
   "outputs": [
    {
     "name": "stderr",
     "output_type": "stream",
     "text": [
      "/home/sudh4444/projects/onward_assignment/venv/lib/python3.8/site-packages/tqdm/auto.py:22: TqdmWarning: IProgress not found. Please update jupyter and ipywidgets. See https://ipywidgets.readthedocs.io/en/stable/user_install.html\n",
      "  from .autonotebook import tqdm as notebook_tqdm\n"
     ]
    }
   ],
   "source": [
    "import tensorflow as tf\n",
    "import tensorflow_datasets as tfds\n",
    "from tensorflow_examples.models.pix2pix import pix2pix\n",
    "from IPython.display import clear_output\n",
    "import matplotlib.pyplot as plt"
   ]
  },
  {
   "cell_type": "code",
   "execution_count": null,
   "metadata": {},
   "outputs": [],
   "source": []
  }
 ],
 "metadata": {
  "interpreter": {
   "hash": "08d670e10cfcd6865122a2a1f8e88b548f772a1ac1326ec00030b3265bb70bc7"
  },
  "kernelspec": {
   "display_name": "Python 3.8.10 ('venv')",
   "language": "python",
   "name": "python3"
  },
  "language_info": {
   "codemirror_mode": {
    "name": "ipython",
    "version": 3
   },
   "file_extension": ".py",
   "mimetype": "text/x-python",
   "name": "python",
   "nbconvert_exporter": "python",
   "pygments_lexer": "ipython3",
   "version": "3.8.10"
  },
  "orig_nbformat": 4
 },
 "nbformat": 4,
 "nbformat_minor": 2
}
